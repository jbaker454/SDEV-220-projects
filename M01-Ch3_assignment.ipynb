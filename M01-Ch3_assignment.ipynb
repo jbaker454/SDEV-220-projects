{
 "cells": [
  {
   "cell_type": "code",
   "execution_count": 10,
   "id": "133f2d72",
   "metadata": {},
   "outputs": [
    {
     "name": "stdout",
     "output_type": "stream",
     "text": [
      "3600 seconds in a hour\n"
     ]
    }
   ],
   "source": [
    "seconds_per_minute = 60\n",
    "minutes_per_hour = 60\n",
    "seconds_per_hour = seconds_per_minute * minutes_per_hour\n",
    "print(seconds_per_hour,\"seconds in a hour\")"
   ]
  },
  {
   "cell_type": "code",
   "execution_count": 11,
   "id": "42efc495",
   "metadata": {},
   "outputs": [
    {
     "name": "stdout",
     "output_type": "stream",
     "text": [
      "86400 seconds in a day\n"
     ]
    }
   ],
   "source": [
    "hours_per_day = 24\n",
    "seconds_per_day = seconds_per_hour * hours_per_day\n",
    "print(seconds_per_day,\"seconds in a day\")"
   ]
  },
  {
   "cell_type": "markdown",
   "id": "bfdb38d7",
   "metadata": {},
   "source": [
    "this is a markdown // feels like a comment"
   ]
  },
  {
   "cell_type": "code",
   "execution_count": 12,
   "id": "d2b9542f",
   "metadata": {},
   "outputs": [
    {
     "name": "stdout",
     "output_type": "stream",
     "text": [
      "24.0 why its just hours_per_day odd floating 0 though\n"
     ]
    }
   ],
   "source": [
    "print(seconds_per_day / seconds_per_hour,\"why its just hours_per_day odd floating 0 though\")"
   ]
  },
  {
   "cell_type": "code",
   "execution_count": 13,
   "id": "3b43ae5b",
   "metadata": {},
   "outputs": [
    {
     "name": "stdout",
     "output_type": "stream",
     "text": [
      "24 why its just hours_per_day no more floating 0\n"
     ]
    }
   ],
   "source": [
    "print(seconds_per_day // seconds_per_hour,\"why its just hours_per_day no more floating 0\")"
   ]
  }
 ],
 "metadata": {
  "kernelspec": {
   "display_name": "Python 3",
   "language": "python",
   "name": "python3"
  },
  "language_info": {
   "codemirror_mode": {
    "name": "ipython",
    "version": 3
   },
   "file_extension": ".py",
   "mimetype": "text/x-python",
   "name": "python",
   "nbconvert_exporter": "python",
   "pygments_lexer": "ipython3",
   "version": "3.11.9"
  }
 },
 "nbformat": 4,
 "nbformat_minor": 5
}
