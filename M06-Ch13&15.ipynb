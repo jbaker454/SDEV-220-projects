{
 "cells": [
  {
   "cell_type": "markdown",
   "id": "dcd53ba3",
   "metadata": {},
   "source": [
    "13.2"
   ]
  },
  {
   "cell_type": "code",
   "execution_count": 1,
   "id": "0afbd8b2",
   "metadata": {},
   "outputs": [],
   "source": [
    "todayTextFile = open(\"today.txt\")\n",
    "today_string = todayTextFile.read()"
   ]
  },
  {
   "cell_type": "markdown",
   "id": "4cba56ce",
   "metadata": {},
   "source": [
    "13.3"
   ]
  },
  {
   "cell_type": "code",
   "execution_count": 2,
   "id": "54437cf8",
   "metadata": {},
   "outputs": [],
   "source": [
    "from datetime import datetime\n",
    "date_obj = datetime.strptime(today_string, \"%m/%d/%Y\")\n",
    "\n",
    "day = date_obj.day \n",
    "month = date_obj.month\n",
    "year = date_obj.year "
   ]
  },
  {
   "cell_type": "markdown",
   "id": "ae2e72f2",
   "metadata": {},
   "source": [
    "15.1"
   ]
  },
  {
   "cell_type": "code",
   "execution_count": 6,
   "id": "c65d6937",
   "metadata": {},
   "outputs": [
    {
     "name": "stdout",
     "output_type": "stream",
     "text": [
      "all tasks complete.\n"
     ]
    }
   ],
   "source": [
    "from multiprocessing import Process\n",
    "import time\n",
    "\n",
    "def taskA(sleepTime):\n",
    "    print(\"taskAstarted\")\n",
    "    time.sleep(sleepTime)\n",
    "    print(\"taskAfinished\")\n",
    "\n",
    "def taskB(sleepTime):\n",
    "    print(\"taskAstarted\")\n",
    "    time.sleep(sleepTime)\n",
    "    print(\"taskBfinished\")\n",
    "\n",
    "def taskC(sleepTime):\n",
    "    print(\"taskAstarted\")\n",
    "    time.sleep(sleepTime)\n",
    "    print(\"taskCfinished\")\n",
    "\n",
    "p1 = Process(target=taskA, args=(2,))\n",
    "p2 = Process(target=taskB, args=(4,))\n",
    "p3 = Process(target=taskC, args=(3,))\n",
    "\n",
    "\n",
    "p1.start()\n",
    "p2.start()\n",
    "p3.start()\n",
    "\n",
    "p1.join()\n",
    "p2.join()\n",
    "p3.join()\n",
    "\n",
    "print(\"all tasks complete.\")\n",
    "\n"
   ]
  }
 ],
 "metadata": {
  "kernelspec": {
   "display_name": "Python 3",
   "language": "python",
   "name": "python3"
  },
  "language_info": {
   "codemirror_mode": {
    "name": "ipython",
    "version": 3
   },
   "file_extension": ".py",
   "mimetype": "text/x-python",
   "name": "python",
   "nbconvert_exporter": "python",
   "pygments_lexer": "ipython3",
   "version": "3.11.9"
  }
 },
 "nbformat": 4,
 "nbformat_minor": 5
}
