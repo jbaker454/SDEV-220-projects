{
 "cells": [
  {
   "cell_type": "markdown",
   "id": "5055da7e",
   "metadata": {},
   "source": [
    "4.1"
   ]
  },
  {
   "cell_type": "code",
   "execution_count": 7,
   "id": "4ada7c17",
   "metadata": {},
   "outputs": [
    {
     "name": "stdout",
     "output_type": "stream",
     "text": [
      "too low\n"
     ]
    }
   ],
   "source": [
    "Secret = 8\n",
    "Guess = int(input(\"select a number between 1 and 10\"))\n",
    "if Secret > Guess:\n",
    "    print(\"too low\")\n",
    "elif Secret == Guess:\n",
    "    print(\"just right\")\n",
    "else:\n",
    "    print(\"too high\")\n"
   ]
  },
  {
   "cell_type": "markdown",
   "id": "9f042e95",
   "metadata": {},
   "source": [
    "4.2"
   ]
  },
  {
   "cell_type": "code",
   "execution_count": 6,
   "id": "cdb693c0",
   "metadata": {},
   "outputs": [
    {
     "name": "stdout",
     "output_type": "stream",
     "text": [
      "pea  is small:  True , green:  True\n"
     ]
    }
   ],
   "source": [
    "small = False\n",
    "green = False\n",
    "\n",
    "fruit = input(\"select your fruit cherry, pea, watermelon, pumpkin\")\n",
    "\n",
    "if fruit == \"cherry\":\n",
    "    small = True\n",
    "    green = False\n",
    "elif fruit == \"pea\":\n",
    "    small = True\n",
    "    green = True\n",
    "elif fruit == \"watermelon\":\n",
    "    small = False\n",
    "    green = True\n",
    "elif fruit == \"pumpkin\":\n",
    "    small = False\n",
    "    green = False\n",
    "\n",
    "print(fruit,\" is small: \", small,\", green: \", green)"
   ]
  },
  {
   "cell_type": "markdown",
   "id": "b00b6771",
   "metadata": {},
   "source": [
    "6.1"
   ]
  },
  {
   "cell_type": "code",
   "execution_count": 8,
   "id": "3eb36510",
   "metadata": {},
   "outputs": [
    {
     "name": "stdout",
     "output_type": "stream",
     "text": [
      "3\n",
      "2\n",
      "1\n",
      "0\n"
     ]
    }
   ],
   "source": [
    "numberList = [3,2,1,0]\n",
    "\n",
    "for number in numberList:\n",
    "    print(number)"
   ]
  },
  {
   "cell_type": "markdown",
   "id": "d64ea431",
   "metadata": {},
   "source": [
    "6.2"
   ]
  },
  {
   "cell_type": "code",
   "execution_count": null,
   "id": "ef7dc3a4",
   "metadata": {},
   "outputs": [
    {
     "name": "stdout",
     "output_type": "stream",
     "text": [
      "too low\n",
      "too low\n",
      "too low\n",
      "too low\n",
      "too low\n",
      "too low\n",
      "just right\n"
     ]
    }
   ],
   "source": [
    "guess_me = 7\n",
    "number = 1\n",
    "while True:\n",
    "    if guess_me > number:\n",
    "        print(\"too low\")\n",
    "    elif guess_me == number:\n",
    "        print(\"found it\")\n",
    "        break\n",
    "    else:\n",
    "        print(\"oops\")\n",
    "        break\n",
    "    number += 1\n",
    "    "
   ]
  },
  {
   "cell_type": "markdown",
   "id": "8cd072c7",
   "metadata": {},
   "source": [
    "6.3"
   ]
  },
  {
   "cell_type": "code",
   "execution_count": 11,
   "id": "866cc8ec",
   "metadata": {},
   "outputs": [
    {
     "name": "stdout",
     "output_type": "stream",
     "text": [
      "too low\n",
      "too low\n",
      "too low\n",
      "too low\n",
      "too low\n",
      "found it\n"
     ]
    }
   ],
   "source": [
    "guess_me = 5\n",
    "\n",
    "for number in range(10):\n",
    "    if guess_me > number:\n",
    "        print(\"too low\")\n",
    "    elif guess_me == number:\n",
    "        print(\"found it\")\n",
    "        break\n",
    "    else:\n",
    "        print(\"oops\")\n",
    "        break"
   ]
  }
 ],
 "metadata": {
  "kernelspec": {
   "display_name": "Python 3",
   "language": "python",
   "name": "python3"
  },
  "language_info": {
   "codemirror_mode": {
    "name": "ipython",
    "version": 3
   },
   "file_extension": ".py",
   "mimetype": "text/x-python",
   "name": "python",
   "nbconvert_exporter": "python",
   "pygments_lexer": "ipython3",
   "version": "3.11.9"
  }
 },
 "nbformat": 4,
 "nbformat_minor": 5
}
