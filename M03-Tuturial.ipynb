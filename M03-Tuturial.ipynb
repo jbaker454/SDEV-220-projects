{
 "cells": [
  {
   "cell_type": "markdown",
   "id": "6ec36f97",
   "metadata": {},
   "source": [
    "sort 0,1,2 in an array"
   ]
  },
  {
   "cell_type": "code",
   "execution_count": 4,
   "id": "88031036",
   "metadata": {},
   "outputs": [],
   "source": [
    "import random\n",
    "\n",
    "class Solution:\n",
    "\n",
    "    def create012(self, length = 5):\n",
    "        # Function to create random array of 0s, 1s, and 2s\n",
    "        # returns unsorted list of 0s, 1s, 2s\n",
    "        createdList = []\n",
    "        for number in range(length):\n",
    "            createdList.append(random.randint(0,2))\n",
    "        return createdList\n",
    "    \n",
    "    def sort012(self, inputlist):\n",
    "        # Function to sort an array of 0s, 1s, and 2s\n",
    "        # returns sorted list in arrangment of 0 then 1 then 2       \n",
    "        zero = 0\n",
    "        one = 0\n",
    "        two = 0\n",
    "        for number in inputlist:\n",
    "            if number == 0:\n",
    "                zero += 1\n",
    "            elif number == 1:\n",
    "                one += 1\n",
    "            elif number == 2:\n",
    "                two += 1\n",
    "            else:\n",
    "                print(\"warning unkown number in list:\", number)\n",
    "\n",
    "        sortedList = []\n",
    "        for number in range(zero):\n",
    "            sortedList.append(0)\n",
    "        for number in range(one):\n",
    "            sortedList.append(1)\n",
    "        for number in range(two):\n",
    "            sortedList.append(2)\n",
    "\n",
    "        return sortedList\n",
    "\n",
    "    def binarysearch(self, listA, unkownNumber):\n",
    "        # Function for searching ListA for an unknown number\n",
    "        # returns index of unknown number if known else -1\n",
    "        indexNumber = 0\n",
    "        for number in listA:\n",
    "            if number == unkownNumber:\n",
    "                return indexNumber\n",
    "            else:\n",
    "                indexNumber += 1\n",
    "        return -1\n",
    "\n",
    "createdSolution = Solution()"
   ]
  },
  {
   "cell_type": "markdown",
   "id": "55654b2d",
   "metadata": {},
   "source": [
    "sort Test"
   ]
  },
  {
   "cell_type": "code",
   "execution_count": 5,
   "id": "150273cc",
   "metadata": {},
   "outputs": [
    {
     "name": "stdout",
     "output_type": "stream",
     "text": [
      "[1, 2, 2, 1, 1]\n",
      "[1, 1, 1, 2, 2]\n"
     ]
    }
   ],
   "source": [
    "createdList = createdSolution.create012(5)\n",
    "print(createdList)\n",
    "sortedList = createdSolution.sort012(createdList)\n",
    "print(sortedList)"
   ]
  },
  {
   "cell_type": "markdown",
   "id": "8e73a02e",
   "metadata": {},
   "source": [
    "index test"
   ]
  },
  {
   "cell_type": "code",
   "execution_count": 6,
   "id": "63e29a0b",
   "metadata": {},
   "outputs": [
    {
     "name": "stdout",
     "output_type": "stream",
     "text": [
      "1\n"
     ]
    }
   ],
   "source": [
    "listA = [0,34,14,22,93]\n",
    "uknownNumber = 34\n",
    "\n",
    "indexNumber = createdSolution.binarysearch(listA,uknownNumber)\n",
    "print(indexNumber)"
   ]
  }
 ],
 "metadata": {
  "kernelspec": {
   "display_name": "Python 3",
   "language": "python",
   "name": "python3"
  },
  "language_info": {
   "codemirror_mode": {
    "name": "ipython",
    "version": 3
   },
   "file_extension": ".py",
   "mimetype": "text/x-python",
   "name": "python",
   "nbconvert_exporter": "python",
   "pygments_lexer": "ipython3",
   "version": "3.11.9"
  }
 },
 "nbformat": 4,
 "nbformat_minor": 5
}
